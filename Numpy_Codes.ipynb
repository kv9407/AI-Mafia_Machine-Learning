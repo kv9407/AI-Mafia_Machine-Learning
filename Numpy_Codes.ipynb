{
 "cells": [
  {
   "cell_type": "code",
   "execution_count": 1,
   "metadata": {},
   "outputs": [],
   "source": [
    "import numpy as np\n"
   ]
  },
  {
   "cell_type": "markdown",
   "metadata": {},
   "source": [
    "## ARRAYS IN NUMPY"
   ]
  },
  {
   "cell_type": "code",
   "execution_count": 2,
   "metadata": {},
   "outputs": [],
   "source": [
    "arr = np.array([[ 1, 2, 3],\n",
    "                [ 4, 2, 5]])"
   ]
  },
  {
   "cell_type": "code",
   "execution_count": 3,
   "metadata": {},
   "outputs": [
    {
     "name": "stdout",
     "output_type": "stream",
     "text": [
      "Array is of type:  <class 'numpy.ndarray'>\n",
      "No. of dimensions:  2\n",
      "Shape of array:  (2, 3)\n",
      "Size of array:  6\n",
      "Array stores elements of type:  int32\n"
     ]
    }
   ],
   "source": [
    "print(\"Array is of type: \", type(arr))\n",
    "\n",
    "print(\"No. of dimensions: \", arr.ndim)\n",
    "\n",
    "print(\"Shape of array: \", arr.shape)\n",
    "\n",
    "print(\"Size of array: \", arr.size)\n",
    "\n",
    "print(\"Array stores elements of type: \", arr.dtype)"
   ]
  },
  {
   "cell_type": "markdown",
   "metadata": {},
   "source": [
    "### Array creation"
   ]
  },
  {
   "cell_type": "code",
   "execution_count": 4,
   "metadata": {},
   "outputs": [
    {
     "name": "stdout",
     "output_type": "stream",
     "text": [
      "Array created using passed list:\n",
      " [[1. 2. 4.]\n",
      " [5. 8. 7.]]\n",
      "\n",
      "Array created using passed tuple:\n",
      " [1 3 2]\n",
      "\n",
      "An array initialized with all zeros:\n",
      " [[0. 0. 0. 0.]\n",
      " [0. 0. 0. 0.]\n",
      " [0. 0. 0. 0.]]\n",
      "\n",
      "An array initialized with all 6s. Array type is complex:\n",
      " [[6.+0.j 6.+0.j 6.+0.j]\n",
      " [6.+0.j 6.+0.j 6.+0.j]\n",
      " [6.+0.j 6.+0.j 6.+0.j]]\n",
      "\n",
      "A random array:\n",
      " [[0.06309275 0.85263376]\n",
      " [0.46371122 0.12522563]]\n",
      "\n",
      "A sequential array with steps of 5:\n",
      " [ 0  5 10 15 20 25]\n",
      "\n",
      "A sequential array with 10 values between 0 and 5:\n",
      " [0.         0.55555556 1.11111111 1.66666667 2.22222222 2.77777778\n",
      " 3.33333333 3.88888889 4.44444444 5.        ]\n",
      "\n",
      "Original array:\n",
      " [[1 2 3 4]\n",
      " [5 2 4 2]\n",
      " [1 2 0 1]]\n",
      "Reshaped array:\n",
      " [[[1 2 3]\n",
      "  [4 5 2]]\n",
      "\n",
      " [[4 2 1]\n",
      "  [2 0 1]]]\n",
      "\n",
      "Original array:\n",
      " [[1 2 3]\n",
      " [4 5 6]]\n",
      "Fattened array:\n",
      " [1 2 3 4 5 6]\n"
     ]
    }
   ],
   "source": [
    "a = np.array([[1, 2, 4], [5, 8, 7]], dtype = 'float')\n",
    "print(\"Array created using passed list:\\n\", a)\n",
    "\n",
    "b = np.array((1 , 3, 2))\n",
    "print(\"\\nArray created using passed tuple:\\n\", b)\n",
    "\n",
    "c = np.zeros((3, 4))\n",
    "print(\"\\nAn array initialized with all zeros:\\n\", c)\n",
    "\n",
    "d = np.full((3, 3), 6, dtype = 'complex')\n",
    "print(\"\\nAn array initialized with all 6s. Array type is complex:\\n\", d)\n",
    "\n",
    "e = np.random.random((2,2))\n",
    "print(\"\\nA random array:\\n\", e)\n",
    "\n",
    "f = np.arange(0, 30, 5)\n",
    "print(\"\\nA sequential array with steps of 5:\\n\", f)\n",
    "\n",
    "g = np.linspace(0, 5, 10)\n",
    "print(\"\\nA sequential array with 10 values between 0 and 5:\\n\", g)\n",
    "\n",
    "arr = np.array([[1, 2, 3, 4],\n",
    "                [5, 2, 4, 2],\n",
    "                [1, 2, 0, 1]])\n",
    "newarr = arr.reshape(2, 2, 3)\n",
    "print(\"\\nOriginal array:\\n\", arr)\n",
    "print(\"Reshaped array:\\n\", newarr)\n",
    "\n",
    "arr = np.array([[1, 2, 3], [4, 5, 6]])\n",
    "flarr = arr.flatten()\n",
    "print(\"\\nOriginal array:\\n\", arr)\n",
    "print(\"Fattened array:\\n\", flarr)"
   ]
  },
  {
   "cell_type": "markdown",
   "metadata": {},
   "source": [
    "## Array Indexing"
   ]
  },
  {
   "cell_type": "code",
   "execution_count": 7,
   "metadata": {},
   "outputs": [
    {
     "name": "stdout",
     "output_type": "stream",
     "text": [
      "Array with first 2 rows and alternate columns(0 and 2):\n",
      " [[-1.  0.]\n",
      " [ 4.  6.]]\n",
      "\n",
      "Elements at indices (0, 3), (1, 2), (2, 1), (3, 0):\n",
      " [4. 6. 0. 3.]\n",
      "\n",
      "Elements greater than 0:\n",
      " [2.  4.  4.  6.  2.6 7.  8.  3.  4.  2. ]\n"
     ]
    }
   ],
   "source": [
    "arr = np.array([[-1, 2, 0, 4],\n",
    "                [4, -0.5, 6, 0],\n",
    "                [2.6, 0, 7, 8],\n",
    "                [3, -7, 4, 2.0]])\n",
    "\n",
    "# slicing\n",
    "temp = arr[:2, ::2]\n",
    "print(\"Array with first 2 rows and alternate columns(0 and 2):\\n\", temp)\n",
    "\n",
    "temp = arr[[0, 1, 2, 3], [3, 2, 1, 0]]\n",
    "print(\"\\nElements at indices (0, 3), (1, 2), (2, 1), (3, 0):\\n\", temp)\n",
    "\n",
    "cond = arr > 0   \n",
    "temp = arr[cond]\n",
    "print(\"\\nElements greater than 0:\\n\", temp)"
   ]
  },
  {
   "cell_type": "markdown",
   "metadata": {},
   "source": [
    "## Basic operations"
   ]
  },
  {
   "cell_type": "code",
   "execution_count": 8,
   "metadata": {},
   "outputs": [
    {
     "name": "stdout",
     "output_type": "stream",
     "text": [
      "Adding 1 to every element: [2 3 6 4]\n",
      "Subtracting 3 from each element: [-2 -1  2  0]\n",
      "Multiplying each element by 10: [10 20 50 30]\n",
      "Squaring each element: [ 1  4 25  9]\n",
      "Doubled each element of original array: [ 2  4 10  6]\n",
      "\n",
      "Original array:\n",
      " [[1 2 3]\n",
      " [3 4 5]\n",
      " [9 6 0]]\n",
      "Transpose of array:\n",
      " [[1 3 9]\n",
      " [2 4 6]\n",
      " [3 5 0]]\n"
     ]
    }
   ],
   "source": [
    "a = np.array([1, 2, 5, 3])\n",
    "print(\"Adding 1 to every element:\", a+1)\n",
    "\n",
    "print(\"Subtracting 3 from each element:\", a-3)\n",
    "\n",
    "print(\"Multiplying each element by 10:\", a*10)\n",
    "\n",
    "print(\"Squaring each element:\", a**2)\n",
    "\n",
    "a *= 2\n",
    "print(\"Doubled each element of original array:\", a)\n",
    "\n",
    "a = np.array([[1, 2, 3], [3, 4, 5], [9, 6, 0]])\n",
    "print(\"\\nOriginal array:\\n\", a)\n",
    "print(\"Transpose of array:\\n\", a.T)"
   ]
  },
  {
   "cell_type": "markdown",
   "metadata": {},
   "source": [
    "### Unary operators"
   ]
  },
  {
   "cell_type": "code",
   "execution_count": 9,
   "metadata": {},
   "outputs": [
    {
     "name": "stdout",
     "output_type": "stream",
     "text": [
      "Largest element is: 9\n",
      "Row-wise maximum elements: [6 7 9]\n",
      "Column-wise minimum elements: [1 1 2]\n",
      "Sum of all array elements: 38\n",
      "Cumulative sum along each row:\n",
      " [[ 1  6 12]\n",
      " [ 4 11 13]\n",
      " [ 3  4 13]]\n"
     ]
    }
   ],
   "source": [
    "arr = np.array([[1, 5, 6], \n",
    "                [4, 7, 2], \n",
    "                [3, 1, 9]])\n",
    "\n",
    "print(\"Largest element is:\", arr.max())\n",
    "print(\"Row-wise maximum elements:\", arr.max(axis = 1))\n",
    "\n",
    "print(\"Column-wise minimum elements:\", arr.min(axis = 0))\n",
    "\n",
    "print(\"Sum of all array elements:\", arr.sum())\n",
    "\n",
    "print(\"Cumulative sum along each row:\\n\", arr.cumsum(axis = 1))"
   ]
  },
  {
   "cell_type": "markdown",
   "metadata": {},
   "source": [
    "### Binary operators"
   ]
  },
  {
   "cell_type": "code",
   "execution_count": 10,
   "metadata": {},
   "outputs": [
    {
     "name": "stdout",
     "output_type": "stream",
     "text": [
      "Array sum:\n",
      " [[5 5]\n",
      " [5 5]]\n",
      "Array multiplication:\n",
      " [[4 6]\n",
      " [6 4]]\n",
      "Matrix multiplication:\n",
      " [[ 8  5]\n",
      " [20 13]]\n"
     ]
    }
   ],
   "source": [
    "a = np.array([[1, 2], \n",
    "              [3, 4]])\n",
    "b = np.array([[4, 3], \n",
    "              [2, 1]])\n",
    "\n",
    "print(\"Array sum:\\n\", a + b)\n",
    "\n",
    "print(\"Array multiplication:\\n\", a*b)\n",
    "\n",
    "print(\"Matrix multiplication:\\n\", a.dot(b))"
   ]
  },
  {
   "cell_type": "markdown",
   "metadata": {},
   "source": [
    "### Universal functions"
   ]
  },
  {
   "cell_type": "code",
   "execution_count": 11,
   "metadata": {},
   "outputs": [
    {
     "name": "stdout",
     "output_type": "stream",
     "text": [
      "Sine values of array elements: [0.0000000e+00 1.0000000e+00 1.2246468e-16]\n",
      "Exponent of array elements: [ 1.          2.71828183  7.3890561  20.08553692]\n",
      "Square root of array elements: [0.         1.         1.41421356 1.73205081]\n"
     ]
    }
   ],
   "source": [
    "a = np.array([0, np.pi/2, np.pi])\n",
    "print(\"Sine values of array elements:\", np.sin(a))\n",
    "\n",
    "a = np.array([0, 1, 2, 3])\n",
    "print(\"Exponent of array elements:\", np.exp(a))\n",
    "\n",
    "print(\"Square root of array elements:\", np.sqrt(a))"
   ]
  },
  {
   "cell_type": "markdown",
   "metadata": {},
   "source": [
    "## Sorting array"
   ]
  },
  {
   "cell_type": "code",
   "execution_count": 12,
   "metadata": {},
   "outputs": [
    {
     "name": "stdout",
     "output_type": "stream",
     "text": [
      "Array elements in sorted order:\n",
      " [-1  0  1  2  3  4  4  5  6]\n",
      "Row-wise sorted array:\n",
      " [[ 1  2  4]\n",
      " [ 3  4  6]\n",
      " [-1  0  5]]\n",
      "Column wise sort by applying merge-sort:\n",
      " [[ 0 -1  2]\n",
      " [ 1  4  5]\n",
      " [ 3  4  6]]\n",
      "\n",
      "Array sorted by names:\n",
      " [(b'A', 2009, 8.5) (b'B', 2009, 9. ) (b'C', 2008, 8.7) (b'D', 2008, 7.9)]\n",
      "Array sorted by grauation year and then cgpa:\n",
      " [(b'D', 2008, 7.9) (b'C', 2008, 8.7) (b'A', 2009, 8.5) (b'B', 2009, 9. )]\n"
     ]
    }
   ],
   "source": [
    "a = np.array([[1, 4, 2],\n",
    "              [3, 4,6],\n",
    "              [0, -1, 5]])\n",
    "print(\"Array elements in sorted order:\\n\", np.sort(a, axis = None))\n",
    "print(\"Row-wise sorted array:\\n\", np.sort(a, axis = 1))\n",
    "\n",
    "print(\"Column wise sort by applying merge-sort:\\n\", np.sort(a, axis = 0, kind = 'mergesort'))\n",
    "\n",
    "dtypes = [('name', 'S10'), ('grad_year', int), ('cgpa', float)]\n",
    "\n",
    "values = [('A', 2009, 8.5), ('C', 2008, 8.7), ('D', 2008, 7.9), ('B', 2009, 9.0)]\n",
    "\n",
    "arr = np.array(values, dtype = dtypes)\n",
    "print(\"\\nArray sorted by names:\\n\", np.sort(arr, order = 'name'))\n",
    "print(\"Array sorted by grauation year and then cgpa:\\n\", np.sort(arr, order = ['grad_year', 'cgpa']))"
   ]
  },
  {
   "cell_type": "markdown",
   "metadata": {},
   "source": [
    "## Stacking and Splitting"
   ]
  },
  {
   "cell_type": "code",
   "execution_count": 13,
   "metadata": {},
   "outputs": [
    {
     "name": "stdout",
     "output_type": "stream",
     "text": [
      "Vertical stacking:\n",
      " [[1 2]\n",
      " [3 4]\n",
      " [5 6]\n",
      " [7 8]]\n",
      "\n",
      "Horizontal stacking:\n",
      " [[1 2 5 6]\n",
      " [3 4 7 8]]\n",
      "\n",
      "Column stacking:\n",
      " [[1 2 5]\n",
      " [3 4 6]]\n",
      "\n",
      "Concatenating to 2nd axis:\n",
      " [[1 2 5 6]\n",
      " [3 4 7 8]]\n"
     ]
    }
   ],
   "source": [
    "a = np.array([[1, 2],\n",
    "              [3, 4]])\n",
    "\n",
    "b = np.array([[5, 6],\n",
    "              [7, 8]])\n",
    "\n",
    "print(\"Vertical stacking:\\n\", np.vstack((a, b)))\n",
    "print(\"\\nHorizontal stacking:\\n\", np.hstack((a, b)))\n",
    "c = [5, 6]\n",
    "print(\"\\nColumn stacking:\\n\", np.column_stack((a, c)))\n",
    "print(\"\\nConcatenating to 2nd axis:\\n\", np.concatenate((a, b), 1))"
   ]
  },
  {
   "cell_type": "code",
   "execution_count": 14,
   "metadata": {},
   "outputs": [
    {
     "name": "stdout",
     "output_type": "stream",
     "text": [
      "Splitting along horizontal axis into 2 parts:\n",
      " [array([[1, 3, 5],\n",
      "       [2, 4, 6]]), array([[ 7,  9, 11],\n",
      "       [ 8, 10, 12]])]\n",
      "\n",
      "Splitting along vertical axis into 2 parts:\n",
      " [array([[ 1,  3,  5,  7,  9, 11]]), array([[ 2,  4,  6,  8, 10, 12]])]\n"
     ]
    }
   ],
   "source": [
    "a = np.array([[1, 3, 5, 7, 9, 11],\n",
    "              [2, 4, 6, 8, 10, 12]])\n",
    "\n",
    "print(\"Splitting along horizontal axis into 2 parts:\\n\", np.hsplit(a, 2))\n",
    "\n",
    "print(\"\\nSplitting along vertical axis into 2 parts:\\n\", np.vsplit(a, 2))"
   ]
  },
  {
   "cell_type": "markdown",
   "metadata": {},
   "source": [
    "##  Statistics Numpy Functions"
   ]
  },
  {
   "cell_type": "code",
   "execution_count": 15,
   "metadata": {},
   "outputs": [
    {
     "name": "stdout",
     "output_type": "stream",
     "text": [
      "[[1 2 3 4]\n",
      " [7 6 2 0]]\n",
      "0\n",
      "[1 2 2 0]\n",
      "[1 0]\n"
     ]
    }
   ],
   "source": [
    "a = np.array([[1,2,3,4],[7,6,2,0]])\n",
    "print(a)\n",
    "print(np.min(a))\n",
    "\n",
    "print(np.min(a,axis=0))\n",
    "print(np.min(a,axis=1))"
   ]
  },
  {
   "cell_type": "code",
   "execution_count": 16,
   "metadata": {},
   "outputs": [
    {
     "name": "stdout",
     "output_type": "stream",
     "text": [
      "3.0\n",
      "3.0\n",
      "[4.  4.  2.5 2. ]\n",
      "[2.5  3.75]\n"
     ]
    }
   ],
   "source": [
    "b = np.array([1,2,3,4,5])\n",
    "m = sum(b)/5\n",
    "print(m)\n",
    "\n",
    "print(np.mean(b))\n",
    "print(np.mean(a,axis=0))\n",
    "print(np.mean(a,axis=1))"
   ]
  },
  {
   "cell_type": "code",
   "execution_count": 17,
   "metadata": {},
   "outputs": [
    {
     "name": "stdout",
     "output_type": "stream",
     "text": [
      "2.0\n",
      "2.4\n",
      "2.4\n",
      "1.854723699099141\n",
      "1.854723699099141\n",
      "3.440000000000001\n",
      "3.4400000000000004\n"
     ]
    }
   ],
   "source": [
    "c = np.array([1,5,4,2,0])\n",
    "print(np.median(c))\n",
    "\n",
    "print(np.mean(c))\n",
    " \n",
    "w = np.array([1,1,1,1,1])\n",
    "print(np.average(c,weights=w))\n",
    "\n",
    "u = np.mean(c)\n",
    "myStd = np.sqrt(np.mean(abs(c-u)**2))\n",
    "print(myStd)\n",
    "\n",
    "dev= np.std(c)\n",
    "print(dev)\n",
    "\n",
    "print(myStd**2)\n",
    "print(np.var(c))"
   ]
  },
  {
   "cell_type": "markdown",
   "metadata": {},
   "source": [
    "## Numpy Random Module"
   ]
  },
  {
   "cell_type": "code",
   "execution_count": 18,
   "metadata": {},
   "outputs": [
    {
     "name": "stdout",
     "output_type": "stream",
     "text": [
      "[ 5  6  7  8  9 10 11 12 13 14]\n",
      "[ 7 14 11  9  5  8  6 12 13 10]\n",
      "[[ 1.5827523  -1.04514683  0.25759352]\n",
      " [-1.9593946  -1.50780766 -0.31529207]]\n",
      "[7 9 6]\n",
      "4\n"
     ]
    }
   ],
   "source": [
    "a = np.arange(10) + 5\n",
    "print(a)\n",
    "\n",
    "np.random.seed(1)\n",
    "np.random.shuffle(a)\n",
    "print(a)\n",
    "a = np.random.randn(2,3)\n",
    "print(a)\n",
    "\n",
    "a = np.random.randint(5,10,3)\n",
    "print(a)\n",
    "\n",
    "element = np.random.choice([1,4,3,2,11,27])\n",
    "print(element)"
   ]
  },
  {
   "cell_type": "code",
   "execution_count": null,
   "metadata": {},
   "outputs": [],
   "source": []
  }
 ],
 "metadata": {
  "kernelspec": {
   "display_name": "Python 3",
   "language": "python",
   "name": "python3"
  },
  "language_info": {
   "codemirror_mode": {
    "name": "ipython",
    "version": 3
   },
   "file_extension": ".py",
   "mimetype": "text/x-python",
   "name": "python",
   "nbconvert_exporter": "python",
   "pygments_lexer": "ipython3",
   "version": "3.8.3"
  }
 },
 "nbformat": 4,
 "nbformat_minor": 4
}
